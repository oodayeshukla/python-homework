{
 "cells": [
  {
   "cell_type": "code",
   "execution_count": 12,
   "id": "f920e6ff-a037-4aaa-a5f8-c18f9d29ba61",
   "metadata": {},
   "outputs": [],
   "source": [
    "#%% imports \n",
    "import pandas as pd\n",
    "import os\n",
    "import datetime as dt\n",
    "## import scipy as sc\n",
    "import numpy as np \n",
    "#os.getcwd()\n",
    "#os.chdir(\"/home/oodaye/Fintech/class_repo/python-homework-repo/python-homework/PyBank\")"
   ]
  },
  {
   "cell_type": "code",
   "execution_count": 2,
   "id": "499242af-08f8-4b0e-93c7-1b98c0d9a312",
   "metadata": {},
   "outputs": [],
   "source": [
    "#%% home work instructions \n",
    "\n",
    "# ##Your task is to create a Python script that analyzes the records to calculate each of the following:\n",
    "\n",
    "# The total number of months included in the dataset.\n",
    "# The net total amount of Profit/Losses over the entire period.\n",
    "# The average of the changes in Profit/Losses over the entire period.\n",
    "# The greatest increase in profits (date and amount) over the entire period.\n",
    "# The greatest decrease in losses (date and amount) over the entire period.\n",
    "# Your resulting analysis should look similar to the following:\n",
    "# Financial Analysis\n",
    "# ----------------------------\n",
    "# Total Months: 86\n",
    "# Total: $38382578\n",
    "# Average  Change: $-2315.12\n",
    "# Greatest Increase in Profits: Feb-2012 ($1926159)\n",
    "# Greatest Decrease in Profits: Sep-2013 ($-2196167)"
   ]
  },
  {
   "cell_type": "code",
   "execution_count": 13,
   "id": "9b3ad8c7-3427-415f-ad64-60348aeeed2d",
   "metadata": {},
   "outputs": [],
   "source": [
    "#%%  read in the file \n",
    "fname = \"PyBank.csv\"\n",
    "df = pd.read_csv(fname) \n",
    "\n",
    "## convert the first column to date time object \n",
    "df['Date'] = df['Date'].apply(lambda x: dt.datetime.strptime(x,'%b-%Y'))\n",
    "df['year'] = df['Date'].map(lambda x: x.strftime('%Y'))\n",
    "df['month'] = df['Date'].map(lambda x: x.strftime('%b'))\n",
    "\n",
    "## get the years listed in the file \n",
    "yrs = pd.unique(df['Date'].map(lambda x: x.strftime('%Y')))\n"
   ]
  },
  {
   "cell_type": "code",
   "execution_count": 14,
   "id": "819eb981-5855-4b72-bf01-5b8867064519",
   "metadata": {},
   "outputs": [],
   "source": [
    "#%% compute the number of months \n",
    "\n",
    "## compute the number of months \n",
    "num_months = df.groupby('year')['month'].count().sum()"
   ]
  },
  {
   "cell_type": "code",
   "execution_count": 15,
   "id": "b0beec8c-0f7c-4ee2-a777-1cef6acfa46a",
   "metadata": {},
   "outputs": [],
   "source": [
    "#%% compute the total \n",
    "tot = df['Profit/Losses'].sum() \n"
   ]
  },
  {
   "cell_type": "code",
   "execution_count": 16,
   "id": "e7689054-60c4-4626-865a-9f590a2c9e73",
   "metadata": {},
   "outputs": [],
   "source": [
    "#%% compute the average change \n",
    "\n",
    "delta = np.ediff1d(df['Profit/Losses'])\n",
    "avg_change = delta.mean()\n",
    "avg_change = np.round(avg_change,2)   ## round to 2 decimal places "
   ]
  },
  {
   "cell_type": "code",
   "execution_count": 17,
   "id": "118e2663-3c93-41b1-8e08-deb75682131e",
   "metadata": {},
   "outputs": [],
   "source": [
    "#%% find the greatest increase in profits \n",
    "max_prof_inc_indx = pd.DataFrame(np.ediff1d(df['Profit/Losses'])).idxmax()\n",
    "\n",
    "max_prof_inc = delta[max_prof_inc_indx]\n",
    "\n",
    "mx_year = df['year'][max_prof_inc_indx+1]\n",
    "mx_month = df['month'][max_prof_inc_indx+1]\n",
    "\n",
    "mx_year_out = mx_year.values[0]\n",
    "mx_month_out= mx_month.values[0]"
   ]
  },
  {
   "cell_type": "code",
   "execution_count": 18,
   "id": "b80ff1b4-51dd-4b72-a843-ea066e584d7f",
   "metadata": {},
   "outputs": [],
   "source": [
    "#%% find the greatest decrease in profits \n",
    "\n",
    "max_prof_dec_indx = pd.DataFrame(np.ediff1d(df['Profit/Losses'])).idxmin()\n",
    "\n",
    "max_prof_dec = delta[max_prof_dec_indx]\n",
    "\n",
    "mn_year = df['year'][max_prof_dec_indx+1]\n",
    "mn_month = df['month'][max_prof_dec_indx+1]\n",
    "\n",
    "mn_year_out = mn_year.values[0]\n",
    "mn_month_out= mn_month.values[0]\n"
   ]
  },
  {
   "cell_type": "code",
   "execution_count": 19,
   "id": "8dee90be-615b-4cbd-813e-cb48aa03904c",
   "metadata": {},
   "outputs": [
    {
     "name": "stdout",
     "output_type": "stream",
     "text": [
      "Financial Analysis\n",
      "-------------------------\n",
      "Total Months: 86\n",
      "Total: $38382578\n",
      "Average  Change: $-2315.12\n",
      "Greatest Increase in Profits: Feb-2012 ($1926159)\n",
      "Greatest Decrease in Profits: Sep-2013 ($-2196167)\n"
     ]
    }
   ],
   "source": [
    "#%% write the results to a file  \n",
    "\n",
    "print(\"Financial Analysis\")\n",
    "print(\"-------------------------\")\n",
    "print(f\"Total Months: {num_months}\")\n",
    "print(f\"Total: ${tot}\")\n",
    "print(f\"Average  Change: ${avg_change}\")\n",
    "print(f\"Greatest Increase in Profits: {mx_month_out}-{mx_year_out} (${max_prof_inc[0]})\")\n",
    "print(f\"Greatest Decrease in Profits: {mn_month_out}-{mn_year_out} (${max_prof_dec[0]})\")\n",
    "\n",
    "\n",
    "with open('PyBank_Output_4.txt', 'wt') as ff:\n",
    "    print(\"Financial Analysis\", file = ff)\n",
    "    print(\"-------------------------\", file = ff)\n",
    "    print(f\"Total Months: {num_months}\", file = ff)\n",
    "    print(f\"Total: ${tot}\", file = ff)\n",
    "    print(f\"Average  Change: ${avg_change}\", file = ff)\n",
    "    print(f\"Greatest Increase in Profits: {mx_month_out}-{mx_year_out} (${max_prof_inc[0]})\", file = ff)\n",
    "    print(f\"Greatest Decrease in Profits: {mn_month_out}-{mn_year_out} (${max_prof_dec[0]})\", file = ff)\n"
   ]
  },
  {
   "cell_type": "code",
   "execution_count": null,
   "id": "db1dd4ec-03f8-4f15-9368-dda34661615c",
   "metadata": {},
   "outputs": [],
   "source": []
  }
 ],
 "metadata": {
  "kernelspec": {
   "display_name": "Python 3",
   "language": "python",
   "name": "python3"
  },
  "language_info": {
   "codemirror_mode": {
    "name": "ipython",
    "version": 3
   },
   "file_extension": ".py",
   "mimetype": "text/x-python",
   "name": "python",
   "nbconvert_exporter": "python",
   "pygments_lexer": "ipython3",
   "version": "3.9.5"
  }
 },
 "nbformat": 4,
 "nbformat_minor": 5
}
